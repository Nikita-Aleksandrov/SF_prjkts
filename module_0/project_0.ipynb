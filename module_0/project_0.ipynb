{
 "cells": [
  {
   "cell_type": "code",
   "execution_count": 2,
   "metadata": {},
   "outputs": [
    {
     "name": "stdout",
     "output_type": "stream",
     "text": [
      "Ваш алгоритм угадывает число в среднем за 5 попыток\n"
     ]
    },
    {
     "data": {
      "text/plain": [
       "5"
      ]
     },
     "execution_count": 2,
     "metadata": {},
     "output_type": "execute_result"
    }
   ],
   "source": [
    "import numpy as np\n",
    "\n",
    "def score_game(game_core):\n",
    "    '''Запускаем игру 1000 раз, чтобы узнать, как быстро игра угадывает число'''\n",
    "    count_ls = []\n",
    "    np.random.seed(1)  # фиксируем RANDOM SEED, чтобы ваш эксперимент был воспроизводим!\n",
    "    random_array = np.random.randint(1,101, size=(1000))\n",
    "    for number in random_array:\n",
    "        count_ls.append(game_core(number))\n",
    "    score = int(np.mean(count_ls))\n",
    "    print(f\"Ваш алгоритм угадывает число в среднем за {score} попыток\")\n",
    "    return(score)\n",
    "\n",
    "def game_core_v3(number):\n",
    "    '''Сначала устанавливаем стартовое число, равное \"50\", нижнюю границу \n",
    "    диапазона поиска равную \"0\", верхнюю \"100\". В следующей попытке будет браться \n",
    "    число, оказавшееся в середине диапозона, в котором предыдущее загаданное \n",
    "    число будет нижней границей, если при сравнении оно оказалось меньше \n",
    "    загаданного или верхней если больше. \n",
    "       Функция принимает загаданное число и возвращает число попыток'''\n",
    "    \n",
    "    count = 1\n",
    "    bottom = 0\n",
    "    predict = 50\n",
    "    top = 100\n",
    "\n",
    "    while number != predict:\n",
    "        count += 1\n",
    "        if number > predict and top-bottom > 2:\n",
    "            bottom = predict\n",
    "            predict += ((top-bottom)-(top-bottom)%2)/2\n",
    "\n",
    "    \n",
    "        elif number < predict  and top-bottom > 2:\n",
    "            top = predict\n",
    "            predict -= ((top-bottom)-(top-bottom)%2)/2\n",
    "\n",
    "    \n",
    "        elif number > predict and top-bottom == 2:\n",
    "            predict += 1\n",
    "\n",
    "    \n",
    "        elif number < predict and top-bottom == 2:\n",
    "            predict -= 1\n",
    "            \n",
    "    return(count) # выход из цикла, если угадали\n",
    "\n",
    "# запускаем\n",
    "score_game(game_core_v3)"
   ]
  },
  {
   "cell_type": "code",
   "execution_count": null,
   "metadata": {},
   "outputs": [],
   "source": []
  }
 ],
 "metadata": {
  "kernelspec": {
   "display_name": "Python 3",
   "language": "python",
   "name": "python3"
  },
  "language_info": {
   "codemirror_mode": {
    "name": "ipython",
    "version": 3
   },
   "file_extension": ".py",
   "mimetype": "text/x-python",
   "name": "python",
   "nbconvert_exporter": "python",
   "pygments_lexer": "ipython3",
   "version": "3.7.6"
  }
 },
 "nbformat": 4,
 "nbformat_minor": 4
}
